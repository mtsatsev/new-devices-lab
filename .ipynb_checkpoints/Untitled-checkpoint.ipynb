{
 "cells": [
  {
   "cell_type": "code",
   "execution_count": 1,
   "metadata": {},
   "outputs": [],
   "source": [
    "import numpy as np\n",
    "import cv2\n",
    "import matplotlib.pyplot as plt\n",
    "from os import *\n",
    "import sys"
   ]
  },
  {
   "cell_type": "code",
   "execution_count": 2,
   "metadata": {},
   "outputs": [],
   "source": [
    "img = cv2.imread(\"leapGestRecog/00/01_palm/frame_00_01_0001.png\")"
   ]
  },
  {
   "cell_type": "code",
   "execution_count": 3,
   "metadata": {},
   "outputs": [],
   "source": [
    "img = cv2.resize(img,(int(160),int(60)))"
   ]
  },
  {
   "cell_type": "code",
   "execution_count": 4,
   "metadata": {},
   "outputs": [
    {
     "data": {
      "image/png": "[encoded data removed]",
      "text/plain": [
       "<Figure size 432x288 with 1 Axes>"
      ]
     },
     "metadata": {
      "needs_background": "light"
     },
     "output_type": "display_data"
    }
   ],
   "source": [
    "plt.imshow(img)\n",
    "plt.show()"
   ]
  },
  {
   "cell_type": "code",
   "execution_count": 5,
   "metadata": {},
   "outputs": [
    {
     "name": "stdout",
     "output_type": "stream",
     "text": [
      "(60, 160, 3)\n"
     ]
    }
   ],
   "source": [
    "print(img.shape)"
   ]
  },
  {
   "cell_type": "code",
   "execution_count": 6,
   "metadata": {},
   "outputs": [
    {
     "name": "stdout",
     "output_type": "stream",
     "text": [
      "0\n",
      "0\n",
      "0\n",
      "0\n",
      "0\n",
      "0\n",
      "0\n",
      "0\n",
      "0\n",
      "0\n"
     ]
    }
   ],
   "source": [
    "for subdir,i in listdir(\"leapGestRecog\"):\n",
    "    print(subdir)"
   ]
  },
  {
   "cell_type": "code",
   "execution_count": 7,
   "metadata": {},
   "outputs": [],
   "source": [
    "def read_dataset(folder):\n",
    "    train_data = []\n",
    "    for subdir in listdir(folder):\n",
    "        for file in listdir(str(folder + \"/\" + subdir)):\n",
    "            print(file)"
   ]
  },
  {
   "cell_type": "code",
   "execution_count": null,
   "metadata": {},
   "outputs": [],
   "source": [
    "from os import *\n",
    "import sys\n",
    "import numpy as np\n",
    "import cv2\n",
    "\n",
    "\n",
    "def color_image_gray(folder,filename):\n",
    "    image = cv2.imread(path.join(folder,filename))\n",
    "    image2 = cv2.cvtColor(image,cv2.COLOR_BGR2GRAY)\n",
    "    return ~image2\n",
    "\n",
    "def convert_image_into_binary_image(img):\n",
    "    ret,bw_img = cv2.threshold(img,0,255, (cv2.THRESH_BINARY + cv2.THRESH_OTSU))\n",
    "    return bw_img\n",
    "\n",
    "def find_countours(image):\n",
    "    return cv2.findContours(image,cv2.RETR_EXTERNAL,cv2.CHAIN_APPROX_NONE)\n",
    "\n",
    "\n",
    "def read_dataset(folder):\n",
    "    train_data = []\n",
    "    for file in listdir(folder):\n",
    "        img = color_image_gray(folder,file)\n",
    "        img = cv2.resize(img,(224,224))\n",
    "\n",
    "        img = convert_image_into_binary_image(img)\n",
    "        img = np.array(img).reshape(9600,3)\n",
    "        train_data.append(resize_img)\n",
    "    return train_data\n",
    "\n",
    "def create_dataset():\n",
    "    \"\"\"0 = palm, 1 = L, 2 = first, 3 = fist_moved, 4 = thumb, 5 = index\n",
    "    6 = OK, 7 = palm_moved, 8 = c, 10 = down\"\"\"\n",
    "    p = \"leapGestRecog/\"\n",
    "    dataset = []\n",
    "    n = 200\n",
    "    for i in range(100):\n",
    "        folder = input(\"enter folder\\n\")\n",
    "        label = input(\"enter label\\n\")\n",
    "        data = read_dataset(p+folder)\n",
    "        for j in range(n):\n",
    "            data = np.append(data[j],[str(label)])\n",
    "\n",
    "        dataset.append(data)\n",
    "\n",
    "    return dataset\n",
    "\n",
    "data = create_dataset()\n",
    "data = pd.DataFrame(data,index=None)\n",
    "data.to_csv('database.csv',index=False)\n"
   ]
  },
  {
   "cell_type": "code",
   "execution_count": null,
   "metadata": {},
   "outputs": [],
   "source": []
  }
 ],
 "metadata": {
  "kernelspec": {
   "display_name": "Python 3",
   "language": "python",
   "name": "python3"
  },
  "language_info": {
   "codemirror_mode": {
    "name": "ipython",
    "version": 3
   },
   "file_extension": ".py",
   "mimetype": "text/x-python",
   "name": "python",
   "nbconvert_exporter": "python",
   "pygments_lexer": "ipython3",
   "version": "3.7.3"
  }
 },
 "nbformat": 4,
 "nbformat_minor": 4
}
